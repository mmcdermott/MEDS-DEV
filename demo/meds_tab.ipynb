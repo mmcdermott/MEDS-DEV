{
 "cells": [
  {
   "cell_type": "code",
   "execution_count": null,
   "metadata": {
    "id": "xLJYigczPaTG"
   },
   "outputs": [],
   "source": [
    "# @title Swtich Colab to python 3.12\n",
    "%%capture\n",
    "!sudo apt-get install python3.12 python3.12-venv\n",
    "import sys\n",
    "\n",
    "!python3.12 -m venv meds_env\n",
    "import os\n",
    "\n",
    "os.environ[\"PATH\"] = \"/content/meds_env/bin:\" + os.environ[\"PATH\"]\n",
    "!pip install --upgrade pip\n",
    "\n",
    "# Then in a new code cell:\n",
    "import sys\n",
    "\n",
    "sys.executable = \"/content/meds_env/bin/python\""
   ]
  },
  {
   "cell_type": "code",
   "execution_count": null,
   "metadata": {
    "colab": {
     "base_uri": "https://localhost:8080/"
    },
    "id": "w8Zrf0NePwfs",
    "outputId": "6aa313bc-5141-453c-88f5-8c1d22956f3d"
   },
   "outputs": [],
   "source": [
    "# confirm python version is 3.12\n",
    "!python --version"
   ]
  },
  {
   "cell_type": "code",
   "execution_count": null,
   "metadata": {
    "id": "ikPVQZOnPcI0"
   },
   "outputs": [],
   "source": [
    "# @title Install dependencies\n",
    "!pip -q install meds_etl==0.3.6 meds_transforms==0.0.7"
   ]
  },
  {
   "cell_type": "code",
   "execution_count": null,
   "metadata": {
    "id": "rjqK4CuRPfnE"
   },
   "outputs": [],
   "source": [
    "# @title Download MIMIC-IV demo\n",
    "\n",
    "!wget -q -r -N -c --no-host-directories --cut-dirs=1 -np -P download https://physionet.org/files/mimic-iv-demo/2.2/"
   ]
  },
  {
   "cell_type": "code",
   "execution_count": null,
   "metadata": {
    "colab": {
     "base_uri": "https://localhost:8080/"
    },
    "id": "qHOBI1_5StBb",
    "outputId": "eb0ef7ec-54c8-4cac-b1ff-d176c986a447"
   },
   "outputs": [],
   "source": [
    "# Download pre-meds script, event config (defining how raw data is converted to meds data), and meds-transform config\n",
    "!mkdir /content/meds-transform/\n",
    "!git clone --depth 1 https://github.com/mmcdermott/MEDS_transforms.git /content/tmp/\n",
    "!mv /content/tmp/MIMIC-IV_Example /content/MIMIC-IV_Example"
   ]
  },
  {
   "cell_type": "code",
   "execution_count": null,
   "metadata": {
    "colab": {
     "base_uri": "https://localhost:8080/"
    },
    "id": "Sr2QdvNxpd0p",
    "outputId": "7877300f-afc5-4583-95f2-e4f7089356b6"
   },
   "outputs": [],
   "source": [
    "# download MIMIC IV metadata\n",
    "MIMICIV_RAW_DIR = \"https://raw.githubusercontent.com/MIT-LCP/mimic-code/v2.4.0/mimic-iv/concepts/concept_map\"\n",
    "MIMICIV_PRE_MEDS_DIR = \"/content/pre_meds/\"\n",
    "!mkdir {MIMICIV_PRE_MEDS_DIR}\n",
    "\n",
    "OUTPUT_DIR = \"/content/download/mimic-iv-demo/2.2\"\n",
    "\n",
    "files = [\n",
    "    \"d_labitems_to_loinc.csv\",\n",
    "    \"inputevents_to_rxnorm.csv\",\n",
    "    \"lab_itemid_to_loinc.csv\",\n",
    "    \"meas_chartevents_main.csv\",\n",
    "    \"meas_chartevents_value.csv\",\n",
    "    \"numerics-summary.csv\",\n",
    "    \"outputevents_to_loinc.csv\",\n",
    "    \"proc_datetimeevents.csv\",\n",
    "    \"proc_itemid.csv\",\n",
    "    \"waveforms-summary.csv\",\n",
    "]\n",
    "\n",
    "for file in files:\n",
    "    !wget -O {OUTPUT_DIR}/{file} {MIMICIV_RAW_DIR}/{file}\n",
    "    !wget -O {MIMICIV_PRE_MEDS_DIR}/{file} {MIMICIV_RAW_DIR}/{file}"
   ]
  },
  {
   "cell_type": "code",
   "execution_count": null,
   "metadata": {
    "colab": {
     "base_uri": "https://localhost:8080/"
    },
    "id": "pQSLxYJhRPxm",
    "outputId": "41ab56f5-512c-4489-adfc-614644c6c632"
   },
   "outputs": [],
   "source": [
    "# Convert to MEDS\n",
    "TUTORIAL_DIR = \"/content/MIMIC-IV_Example\"\n",
    "MIMICIV_RAW_DIR = \"/content/download/mimic-iv-demo/2.2\"\n",
    "MIMICIV_PRE_MEDS_DIR = \"/content/pre_meds/\"\n",
    "MIMICIV_MEDS_DIR = \"/content/meds/\"\n",
    "\n",
    "EVENT_CONVERSION_CONFIG_FP = \"/content/MIMIC-IV_Example/configs/event_config.yaml\"\n",
    "PIPELINE_CONFIG_PATH = \"/content/MIMIC-IV_Example/configs/pipeline_config.yaml\"\n",
    "!cd {TUTORIAL_DIR} && /content/MIMIC-IV_Example/run.sh {MIMICIV_RAW_DIR} {MIMICIV_PRE_MEDS_DIR} {MIMICIV_MEDS_DIR} do_unzip=true"
   ]
  },
  {
   "cell_type": "code",
   "execution_count": null,
   "metadata": {
    "colab": {
     "base_uri": "https://localhost:8080/",
     "height": 443
    },
    "id": "u2f6socuWhjd",
    "outputId": "289bc4ae-e374-4ed1-fd98-58c803f14e26"
   },
   "outputs": [],
   "source": [
    "# @title Examine MEDS data\n",
    "\n",
    "import polars as pl\n",
    "\n",
    "data = pl.read_parquet(\"/content/meds/data/**/*.parquet\")\n",
    "\n",
    "data[[\"subject_id\", \"time\", \"code\", \"numeric_value\"]]"
   ]
  },
  {
   "cell_type": "code",
   "execution_count": null,
   "metadata": {
    "colab": {
     "base_uri": "https://localhost:8080/",
     "height": 479
    },
    "id": "CZD9xpSxd1Wp",
    "outputId": "ea758e42-b71d-464f-f931-df7eec7a4415"
   },
   "outputs": [],
   "source": [
    "# @title A Simple Polars Analysis\n",
    "\n",
    "icd10_events = data.filter(pl.col(\"code\").str.starts_with(\"DIAGNOSIS//ICD//10//\"))\n",
    "\n",
    "icd10_events.group_by(\"code\").count().sort(\"count\", descending=True)"
   ]
  },
  {
   "cell_type": "code",
   "execution_count": null,
   "metadata": {
    "colab": {
     "base_uri": "https://localhost:8080/",
     "height": 443
    },
    "id": "u7EXKCZelho-",
    "outputId": "27e81b86-1195-4c6c-f7c7-993665b826d7"
   },
   "outputs": [],
   "source": [
    "df = pl.read_parquet(\"/content/meds/metadata/codes.parquet\")\n",
    "df"
   ]
  },
  {
   "cell_type": "markdown",
   "metadata": {
    "id": "PZmYRVX2W8m7"
   },
   "source": [
    "# Using an example MEDS tool, ACES for labeling"
   ]
  },
  {
   "cell_type": "code",
   "execution_count": null,
   "metadata": {
    "colab": {
     "base_uri": "https://localhost:8080/"
    },
    "id": "z3_pG9YAWpKy",
    "outputId": "efa4c286-413d-4a91-a53d-fb41769cd4f2"
   },
   "outputs": [],
   "source": [
    "# @title Install ACES\n",
    "\n",
    "\n",
    "!pip install es-aces"
   ]
  },
  {
   "cell_type": "code",
   "execution_count": null,
   "metadata": {
    "id": "H6fqe217XDhi"
   },
   "outputs": [],
   "source": [
    "# From the ACES documentation\n",
    "\n",
    "task_config = \"\"\"\n",
    "description: >-\n",
    "  This file specifies the base configuration for the prediction of a hospital los being greater than 3days,\n",
    "  leveraging only the first 48 hours of data after admission, with a 24 hour gap between the input window\n",
    "  and the target window. Patients who die or are discharged in the gap window are excluded. Note that this\n",
    "  task is in-**hospital** los, not in-**ICU** los which is a different task.\n",
    "\n",
    "predicates:\n",
    "  hospital_admission:\n",
    "    code: {regex: \"HOSPITAL_ADMISSION//.*\"}\n",
    "  hospital_discharge:\n",
    "    code: {regex: \"HOSPITAL_DISCHARGE//.*\"}\n",
    "  death:\n",
    "    code: MEDS_DEATH\n",
    "  discharge_or_death:\n",
    "    expr: or(hospital_discharge, death)\n",
    "\n",
    "trigger: hospital_admission\n",
    "\n",
    "windows:\n",
    "  input:\n",
    "    start: NULL\n",
    "    end: trigger + 48h\n",
    "    start_inclusive: True\n",
    "    end_inclusive: True\n",
    "    index_timestamp: end\n",
    "  gap:\n",
    "    start: input.end\n",
    "    end: start + 24h\n",
    "    start_inclusive: False\n",
    "    end_inclusive: True\n",
    "    has:\n",
    "      hospital_admission: (None, 0)\n",
    "      discharge_or_death: (None, 0)\n",
    "  target:\n",
    "    start: trigger\n",
    "    end: start + 3d\n",
    "    start_inclusive: False\n",
    "    end_inclusive: True\n",
    "    label: discharge_or_death\n",
    "\"\"\"\n",
    "!mkdir /content/tasks/ -p\n",
    "TASK_NAME = \"in_hospital_3d_los_after_48h\"\n",
    "TASK_CONFIG_FP = f\"/content/tasks/{TASK_NAME}.yaml\"\n",
    "with open(TASK_CONFIG_FP, \"w\") as f:\n",
    "    f.write(task_config)"
   ]
  },
  {
   "cell_type": "code",
   "execution_count": null,
   "metadata": {
    "colab": {
     "base_uri": "https://localhost:8080/"
    },
    "id": "es-39eHOyp5a",
    "outputId": "9d5e2468-fdd5-4c4b-8615-fe24f5a9310f"
   },
   "outputs": [],
   "source": [
    "!pip install es-aces"
   ]
  },
  {
   "cell_type": "code",
   "execution_count": null,
   "metadata": {
    "colab": {
     "base_uri": "https://localhost:8080/"
    },
    "id": "bXLiJGEry-Gb",
    "outputId": "7d954ab4-cf5c-4d02-a99c-669b5822bf44"
   },
   "outputs": [],
   "source": [
    "!aces-cli --multirun data=sharded data.standard=meds data.root=\"$MIMICIV_MEDS_DIR/data\" \"data.shard=$(expand_shards  /content/meds/data/)\" cohort_dir=\" /content/tasks\" cohort_name=\"$TASK_NAME\" config_path=\"$TASK_CONFIG_FP\""
   ]
  },
  {
   "cell_type": "code",
   "execution_count": null,
   "metadata": {
    "colab": {
     "base_uri": "https://localhost:8080/",
     "height": 497
    },
    "id": "7Vvac7DIWyRT",
    "outputId": "40493f0e-48ba-4f5e-9d9a-401e26f1a9b7"
   },
   "outputs": [],
   "source": [
    "import polars as pl\n",
    "\n",
    "# execute query and get results\n",
    "df = pl.read_parquet(f\"/content/tasks/{TASK_NAME}/**/*.parquet\")\n",
    "\n",
    "print(\n",
    "    \"train prevalence: \"\n",
    "    + str(round(pl.read_parquet(f\"/content/tasks/{TASK_NAME}/train/*.parquet\")[\"boolean_value\"].mean(), 3))\n",
    ")\n",
    "print(\n",
    "    \"tuning prevalence: \"\n",
    "    + str(round(pl.read_parquet(f\"/content/tasks/{TASK_NAME}/tuning/*.parquet\")[\"boolean_value\"].mean(), 3))\n",
    ")\n",
    "print(\n",
    "    \"held_out prevalence: \"\n",
    "    + str(round(pl.read_parquet(f\"/content/tasks/{TASK_NAME}/held_out/*.parquet\")[\"boolean_value\"].mean(), 3))\n",
    ")\n",
    "\n",
    "\n",
    "df.sort(\"boolean_value\")"
   ]
  },
  {
   "cell_type": "code",
   "execution_count": null,
   "metadata": {
    "colab": {
     "base_uri": "https://localhost:8080/",
     "height": 1000
    },
    "id": "XWB7O1UGhRIo",
    "outputId": "e3416d5e-7427-4cf4-c0ab-20053a9d3430"
   },
   "outputs": [],
   "source": [
    "# @title Install meds-tab\n",
    "\n",
    "!pip uninstall es-aces -y\n",
    "!pip install meds-tab"
   ]
  },
  {
   "cell_type": "code",
   "execution_count": null,
   "metadata": {
    "id": "SeGawIqli0nn"
   },
   "outputs": [],
   "source": [
    "MIMICIV_MEDS_DIR = \"/content/meds/\"\n",
    "OUTPUT_TABULARIZATION_DIR = \"/content/tabularized/\"\n",
    "TASK_DIR = \"/content/tasks/\"\n",
    "TASK_NAME = \"in_hospital_3d_los_after_48h\"\n",
    "OUTPUT_MODEL_DIR = \"/content/output/meds_tab/\""
   ]
  },
  {
   "cell_type": "code",
   "execution_count": null,
   "metadata": {
    "colab": {
     "base_uri": "https://localhost:8080/"
    },
    "id": "Tud0_0cgjljP",
    "outputId": "fb3417e0-3ba4-4f9a-ab95-ce3ba8731ca1"
   },
   "outputs": [],
   "source": [
    "!meds-tab-describe input_dir={MIMICIV_MEDS_DIR}/data output_dir={OUTPUT_TABULARIZATION_DIR}"
   ]
  },
  {
   "cell_type": "code",
   "execution_count": null,
   "metadata": {
    "id": "RVLBdOn1mnV5"
   },
   "outputs": [],
   "source": [
    "# Define the window sizes and aggregations to generate features for\n",
    "WINDOW_SIZES = \"tabularization.window_sizes=[1d,30d,365d]\"\n",
    "AGGREGATIONS = (\n",
    "    \"tabularization.aggs=[static/present,code/count,value/count,value/sum,value/sum_sqd,value/min,value/max]\"\n",
    ")"
   ]
  },
  {
   "cell_type": "code",
   "execution_count": null,
   "metadata": {
    "id": "KhCPqBmduNYK"
   },
   "outputs": [],
   "source": [
    "!rm -rf /content/tabularized/tabularize/"
   ]
  },
  {
   "cell_type": "code",
   "execution_count": null,
   "metadata": {
    "colab": {
     "base_uri": "https://localhost:8080/"
    },
    "id": "p_D07KzxjVUl",
    "outputId": "8836b076-cf64-4f29-da81-ac5125ab7608"
   },
   "outputs": [],
   "source": [
    "!meds-tab-tabularize-static \"input_dir=$MIMICIV_MEDS_DIR/data\" \"output_dir=$OUTPUT_TABULARIZATION_DIR\" do_overwrite=False $WINDOW_SIZES $AGGREGATIONS"
   ]
  },
  {
   "cell_type": "code",
   "execution_count": null,
   "metadata": {
    "colab": {
     "base_uri": "https://localhost:8080/"
    },
    "id": "u-e-mV2Hk-Qf",
    "outputId": "c292be12-ff74-44e4-f039-758e10ccc909"
   },
   "outputs": [],
   "source": [
    "!meds-tab-tabularize-time-series --multirun \"worker=range(0,2)\" \"hydra/launcher=joblib\" \"input_dir=$MIMICIV_MEDS_DIR/data\" \"output_dir=$OUTPUT_TABULARIZATION_DIR\" do_overwrite=False $WINDOW_SIZES $AGGREGATIONS"
   ]
  },
  {
   "cell_type": "code",
   "execution_count": null,
   "metadata": {
    "id": "NmaR_-Fik4eH"
   },
   "outputs": [],
   "source": [
    "!meds-tab-cache-task \"input_dir={MIMICIV_MEDS_DIR}/data\" \"output_dir=$OUTPUT_TABULARIZATION_DIR\" \"input_label_dir=$TASK_DIR/$TASK_NAME/\" \"task_name=$TASK_NAME\" do_overwrite=False $WINDOW_SIZES $AGGREGATIONS"
   ]
  },
  {
   "cell_type": "code",
   "execution_count": null,
   "metadata": {
    "id": "dLIkOzTblBB2"
   },
   "outputs": [],
   "source": [
    "!meds-tab-xgboost --multirun \"input_dir=$MIMICIV_MEDS_DIR/data\" \"output_dir=$OUTPUT_TABULARIZATION_DIR\" \"output_model_dir=$OUTPUT_MODEL_DIR/$TASK_NAME/\" \"task_name=$TASK_NAME\" do_overwrite=False \"hydra.sweeper.n_trials=10\" $WINDOW_SIZES $AGGREGATIONS \"tabularization.min_code_inclusion_count=10\""
   ]
  }
 ],
 "metadata": {
  "colab": {
   "provenance": []
  },
  "kernelspec": {
   "display_name": "Python 3",
   "name": "python3"
  },
  "language_info": {
   "name": "python"
  }
 },
 "nbformat": 4,
 "nbformat_minor": 0
}
